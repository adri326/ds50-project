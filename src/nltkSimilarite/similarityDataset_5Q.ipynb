{
 "cells": [
  {
   "cell_type": "code",
   "execution_count": 1,
   "metadata": {
    "ExecuteTime": {
     "end_time": "2023-06-11T18:03:34.803640Z",
     "start_time": "2023-06-11T18:03:30.075926Z"
    }
   },
   "outputs": [],
   "source": [
    "import pandas as pd\n",
    "from sentence_transformers import SentenceTransformer, util\n",
    "\n",
    "model = SentenceTransformer('all-MiniLM-L6-v2')"
   ]
  },
  {
   "cell_type": "code",
   "execution_count": 2,
   "metadata": {
    "ExecuteTime": {
     "end_time": "2023-06-11T18:03:40.122923Z",
     "start_time": "2023-06-11T18:03:40.087936Z"
    }
   },
   "outputs": [
    {
     "data": {
      "text/plain": "                                                q_EN  \\\n0              What is an abdominal aortic aneurysm?   \n1  What are the symptoms of an abdominal aortic a...   \n2  What are the causes of abdominal aortic aneury...   \n3     How is an abdominal aortic aneurysm diagnosed?   \n4  When should I get an abdominal aortic aneurysm...   \n\n                                               qs_EN  \\\n0  [Define an abdominal aortic aneurysm., How wou...   \n1  [List the symptoms associated with an abdomina...   \n2  [Enumerate the factors responsible for causing...   \n3  [Outline the diagnostic methods used for detec...   \n4  [What is the recommended timing for undergoing...   \n\n                                                a_EN  \\\n0  Your aorta carries oxygen-rich blood away from...   \n1  In most cases there are no noticeable symptoms...   \n2  It’s not known exactly what causes abdominal a...   \n3  An AAA is sometimes picked up during tests for...   \n4  Abdominal aortic aneurysm is far more common i...   \n\n                                                q_FR  qs_FR  \\\n0  Qu'est-ce qu'un anévrisme de l'aorte abdominale ?    NaN   \n1  Quels sont les symptômes d'un anévrisme de l'a...    NaN   \n2  Quelles sont les causes de l'anévrisme de l'ao...    NaN   \n3  Comment diagnostiquer un anévrisme de l'aorte ...    NaN   \n4  Quand dois-je faire un dépistage de l'anévrism...    NaN   \n\n                                                a_FR  \\\n0  L'aorte transporte le sang riche en oxygène du...   \n1  Dans la plupart des cas, aucun symptôme n'est ...   \n2  On ne connaît pas exactement les causes de l'a...   \n3  Un AAA est parfois détecté lors d'examens visa...   \n4  L'anévrisme de l'aorte abdominale est beaucoup...   \n\n                                                 URL  \\\n0  https://www.bhf.org.uk/informationsupport/cond...   \n1  https://www.bhf.org.uk/informationsupport/cond...   \n2  https://www.bhf.org.uk/informationsupport/cond...   \n3  https://www.bhf.org.uk/informationsupport/cond...   \n4  https://www.bhf.org.uk/informationsupport/cond...   \n\n                        Name  \n0  abdominal-aortic-aneurysm  \n1  abdominal-aortic-aneurysm  \n2  abdominal-aortic-aneurysm  \n3  abdominal-aortic-aneurysm  \n4  abdominal-aortic-aneurysm  ",
      "text/html": "<div>\n<style scoped>\n    .dataframe tbody tr th:only-of-type {\n        vertical-align: middle;\n    }\n\n    .dataframe tbody tr th {\n        vertical-align: top;\n    }\n\n    .dataframe thead th {\n        text-align: right;\n    }\n</style>\n<table border=\"1\" class=\"dataframe\">\n  <thead>\n    <tr style=\"text-align: right;\">\n      <th></th>\n      <th>q_EN</th>\n      <th>qs_EN</th>\n      <th>a_EN</th>\n      <th>q_FR</th>\n      <th>qs_FR</th>\n      <th>a_FR</th>\n      <th>URL</th>\n      <th>Name</th>\n    </tr>\n  </thead>\n  <tbody>\n    <tr>\n      <th>0</th>\n      <td>What is an abdominal aortic aneurysm?</td>\n      <td>[Define an abdominal aortic aneurysm., How wou...</td>\n      <td>Your aorta carries oxygen-rich blood away from...</td>\n      <td>Qu'est-ce qu'un anévrisme de l'aorte abdominale ?</td>\n      <td>NaN</td>\n      <td>L'aorte transporte le sang riche en oxygène du...</td>\n      <td>https://www.bhf.org.uk/informationsupport/cond...</td>\n      <td>abdominal-aortic-aneurysm</td>\n    </tr>\n    <tr>\n      <th>1</th>\n      <td>What are the symptoms of an abdominal aortic a...</td>\n      <td>[List the symptoms associated with an abdomina...</td>\n      <td>In most cases there are no noticeable symptoms...</td>\n      <td>Quels sont les symptômes d'un anévrisme de l'a...</td>\n      <td>NaN</td>\n      <td>Dans la plupart des cas, aucun symptôme n'est ...</td>\n      <td>https://www.bhf.org.uk/informationsupport/cond...</td>\n      <td>abdominal-aortic-aneurysm</td>\n    </tr>\n    <tr>\n      <th>2</th>\n      <td>What are the causes of abdominal aortic aneury...</td>\n      <td>[Enumerate the factors responsible for causing...</td>\n      <td>It’s not known exactly what causes abdominal a...</td>\n      <td>Quelles sont les causes de l'anévrisme de l'ao...</td>\n      <td>NaN</td>\n      <td>On ne connaît pas exactement les causes de l'a...</td>\n      <td>https://www.bhf.org.uk/informationsupport/cond...</td>\n      <td>abdominal-aortic-aneurysm</td>\n    </tr>\n    <tr>\n      <th>3</th>\n      <td>How is an abdominal aortic aneurysm diagnosed?</td>\n      <td>[Outline the diagnostic methods used for detec...</td>\n      <td>An AAA is sometimes picked up during tests for...</td>\n      <td>Comment diagnostiquer un anévrisme de l'aorte ...</td>\n      <td>NaN</td>\n      <td>Un AAA est parfois détecté lors d'examens visa...</td>\n      <td>https://www.bhf.org.uk/informationsupport/cond...</td>\n      <td>abdominal-aortic-aneurysm</td>\n    </tr>\n    <tr>\n      <th>4</th>\n      <td>When should I get an abdominal aortic aneurysm...</td>\n      <td>[What is the recommended timing for undergoing...</td>\n      <td>Abdominal aortic aneurysm is far more common i...</td>\n      <td>Quand dois-je faire un dépistage de l'anévrism...</td>\n      <td>NaN</td>\n      <td>L'anévrisme de l'aorte abdominale est beaucoup...</td>\n      <td>https://www.bhf.org.uk/informationsupport/cond...</td>\n      <td>abdominal-aortic-aneurysm</td>\n    </tr>\n  </tbody>\n</table>\n</div>"
     },
     "execution_count": 2,
     "metadata": {},
     "output_type": "execute_result"
    }
   ],
   "source": [
    "# Récupération des données du JSON ./dataset/dataset_5Q.json\n",
    "data = pd.read_json('../../dataset/dataset_5Q.json')\n",
    "data.head()"
   ]
  },
  {
   "cell_type": "code",
   "execution_count": 3,
   "metadata": {
    "ExecuteTime": {
     "end_time": "2023-06-11T18:03:42.230485Z",
     "start_time": "2023-06-11T18:03:42.220873Z"
    }
   },
   "outputs": [
    {
     "name": "stdout",
     "output_type": "stream",
     "text": [
      "Define an abdominal aortic aneurysm.\n",
      "What is an abdominal aortic aneurysm?\n"
     ]
    }
   ],
   "source": [
    "# Récupérer les questions\n",
    "questions = data[\"q_EN\"].unique()\n",
    "liste_questions = data[\"qs_EN\"]\n",
    "\n",
    "print(liste_questions[0][0])\n",
    "\n",
    "print(questions[0])"
   ]
  },
  {
   "cell_type": "code",
   "execution_count": 4,
   "outputs": [],
   "source": [
    "res = [[i] + j for i, j in zip(questions, liste_questions)]"
   ],
   "metadata": {
    "collapsed": false,
    "ExecuteTime": {
     "end_time": "2023-06-11T18:03:44.143095Z",
     "start_time": "2023-06-11T18:03:44.136919Z"
    }
   }
  },
  {
   "cell_type": "code",
   "execution_count": 5,
   "metadata": {
    "ExecuteTime": {
     "end_time": "2023-06-11T18:03:45.929196Z",
     "start_time": "2023-06-11T18:03:45.926454Z"
    }
   },
   "outputs": [
    {
     "name": "stdout",
     "output_type": "stream",
     "text": [
      "[['how can an abdominal aortic aneurysm be treated?', 'what are the treatment options available for managing an abdominal aortic aneurysm?', 'how can medical professionals treat an abdominal aortic aneurysm?', 'list the modalities used in the treatment of abdominal aortic aneurysms.', 'what are the approaches to treating an abdominal aortic aneurysm?', 'provide an overview of the treatment methods employed for addressing an abdominal aortic aneurysm.']] \n",
      "\n",
      "Length Of Data 565\n"
     ]
    }
   ],
   "source": [
    "# this is not production ready data!!\n",
    "# this is not production ready data!!\n",
    "sentences = [[sentence.lower()\n",
    "              .replace('br', '')\n",
    "              .replace('<', \"\")\n",
    "              .replace(\">\", \"\")\n",
    "              .replace('\\\\', \"\")\n",
    "              .replace('\\/', \"\")\n",
    "              for sentence in sublist]\n",
    "             for sublist in res]\n",
    "\n",
    "#see a sentence, and our length\n",
    "print(sentences[5:6], f'\\n\\nLength Of Data {len(sentences)}')\n"
   ]
  },
  {
   "cell_type": "code",
   "execution_count": 6,
   "outputs": [
    {
     "name": "stdout",
     "output_type": "stream",
     "text": [
      "[[[0, 1, 2, 3, 4, 5], 0], [[6, 7, 8, 9, 10, 11], 1], [[12, 13, 14, 15, 16, 17], 2], [[18, 19, 20, 21, 22, 23], 3], [[24, 25, 26, 27, 28, 29], 4]]\n"
     ]
    }
   ],
   "source": [
    "# On doit applatire le dataset, donc nous créons une liste avec l'id des questions dans un tableau et l'id de la réponse de la forme [[[id_question, id_question,...], id_reponse], ...]\n",
    "\n",
    "correspondance = []\n",
    "\n",
    "compteur = 0\n",
    "\n",
    "for i in range(len(sentences)):\n",
    "    correspondance.append([[], i])\n",
    "    for j in range(len(sentences[i])):\n",
    "        correspondance[i][0].append(compteur)\n",
    "        compteur += 1\n",
    "print(correspondance[0:5])"
   ],
   "metadata": {
    "collapsed": false,
    "ExecuteTime": {
     "end_time": "2023-06-11T18:03:48.381680Z",
     "start_time": "2023-06-11T18:03:48.376694Z"
    }
   }
  },
  {
   "cell_type": "code",
   "execution_count": 7,
   "outputs": [],
   "source": [
    "# créer une dataframe avec les questions et les réponses\n",
    "\n",
    "df = pd.DataFrame({'questions': sentences, 'reponses': data[\"a_EN\"]})\n",
    "\n",
    "# Enregistrer la dataframe dans un fichier csv\n",
    "df.to_csv('../../dataset/dataset_5Q_traite.csv', index=False)"
   ],
   "metadata": {
    "collapsed": false,
    "ExecuteTime": {
     "end_time": "2023-06-11T18:03:50.923061Z",
     "start_time": "2023-06-11T18:03:50.898025Z"
    }
   }
  },
  {
   "cell_type": "code",
   "execution_count": 8,
   "outputs": [
    {
     "name": "stdout",
     "output_type": "stream",
     "text": [
      "['what is an abdominal aortic aneurysm?', 'define an abdominal aortic aneurysm.', 'how would you describe an abdominal aortic aneurysm?', 'provide an explanation of an abdominal aortic aneurysm.', 'what can you tell me about abdominal aortic aneurysms?']\n"
     ]
    }
   ],
   "source": [
    "# On doit applatire le dataset\n",
    "\n",
    "sentences = [sentence for sublist in sentences for sentence in sublist]\n",
    "\n",
    "print(sentences[0:5])"
   ],
   "metadata": {
    "collapsed": false,
    "ExecuteTime": {
     "end_time": "2023-06-11T18:03:52.941126Z",
     "start_time": "2023-06-11T18:03:52.935932Z"
    }
   }
  },
  {
   "cell_type": "code",
   "execution_count": 34,
   "metadata": {
    "ExecuteTime": {
     "end_time": "2023-06-11T18:54:52.140901Z",
     "start_time": "2023-06-11T18:54:52.136006Z"
    }
   },
   "outputs": [],
   "source": [
    "our_sentence_origine = 'What are the symptoms of an abdominal aortic aneurysm?'\n",
    "our_sentence_1 = 'What signs and symptoms indicate the presence of an abdominal aortic aneurysm?'\n",
    "our_sentence = \"explain the concept of an abdominal aortic aneurysm.\""
   ]
  },
  {
   "cell_type": "code",
   "execution_count": 35,
   "metadata": {
    "ExecuteTime": {
     "end_time": "2023-06-11T18:55:44.174311Z",
     "start_time": "2023-06-11T18:54:53.277787Z"
    }
   },
   "outputs": [
    {
     "name": "stdout",
     "output_type": "stream",
     "text": [
      "[['explain the concept of an abdominal aortic aneurysm.', tensor(1.), 5], ['provide an explanation of an abdominal aortic aneurysm.', tensor(0.9618), 3]]\n"
     ]
    }
   ],
   "source": [
    "# lets embed our sentence\n",
    "my_embedding = model.encode(our_sentence)\n",
    "\n",
    "# lets embed the corpus\n",
    "embeddings = model.encode(sentences)\n",
    "\n",
    "#Compute cosine similarity between my sentence, and each one in the corpus\n",
    "cos_sim = util.cos_sim(my_embedding, embeddings)\n",
    "\n",
    "# lets go through our array and find our best one!\n",
    "# remember, we want the highest value here (highest cosine similiarity)\n",
    "winners = []\n",
    "for arr in cos_sim:\n",
    "    for i, each_val in enumerate(arr):\n",
    "        winners.append([sentences[i], each_val, i])\n",
    "\n",
    "# lets get the top 2 sentences\n",
    "final_winners = sorted(winners, key=lambda x: x[1], reverse=True)\n",
    "\n",
    "print(final_winners[0:2])"
   ]
  },
  {
   "cell_type": "code",
   "execution_count": 30,
   "outputs": [],
   "source": [
    "def find_value(data, x):\n",
    "    for sublist in data:\n",
    "        if x in sublist[0]:\n",
    "            return sublist[1]\n",
    "    return None  # Retourne None si la valeur n'est pas trouvée"
   ],
   "metadata": {
    "collapsed": false,
    "ExecuteTime": {
     "end_time": "2023-06-11T18:41:18.419720Z",
     "start_time": "2023-06-11T18:41:18.413279Z"
    }
   }
  },
  {
   "cell_type": "markdown",
   "source": [
    "On pourrait imaginer que sur les 5 premiers cos_similarité, on regarde si c'est la même question au moins 4 fois, si oui, on prend la réponse de la question qui a le plus de cos_similarité. Donc notre probabilité est très forte sinon on interroge l'IA ChatGPT."
   ],
   "metadata": {
    "collapsed": false
   }
  },
  {
   "cell_type": "code",
   "execution_count": null,
   "outputs": [],
   "source": [
    "from selenium.webdriver.remote.webdriver import By\n",
    "import undetected_chromedriver as uc\n",
    "\n",
    "import time\n",
    "import random\n",
    "import json\n",
    "\n",
    "driver = uc.Chrome()\n",
    "driver.get(\"https://chat.openai.com/\")\n",
    "\n",
    "COMPTEUR = 0\n",
    "PROMPT = \"\"\"Act like a doctor having a formal conversation with a client, in text messages format. Here is your interlocutors first interaction: {}\n",
    "\"\"\"\n",
    "MAX_RETRY = 5  # nombre de fois qu'on réessaye si on a une erreur dans la récup de réponse (comprend pas d'ou elle vient donc on force la main hein)\n",
    "\n",
    "creds = json.load(open(\"./openai_creds.json\", \"r\"))\n",
    "\n",
    "\n",
    "def is_writing():\n",
    "    # vérifie si chatgpt est encore en train d'écrire\n",
    "    try:\n",
    "        driver.find_element(By.XPATH, '//*[@id=\"__next\"]/div[2]/div[2]/div/main/div[3]/form/div/div[2]/button/div')\n",
    "        return True\n",
    "    except:\n",
    "        return False\n",
    "\n",
    "\n",
    "def sleep(sec):\n",
    "    # rompiche\n",
    "    time.sleep(sec + random.randint(0, 20) / 10)\n",
    "\n",
    "\n",
    "def get_answer(n):\n",
    "    # récupère la réponse de chatgpt\n",
    "    try:\n",
    "        res = (1, driver.find_element(By.XPATH,\n",
    "                                      f'//*[@id=\"__next\"]/div[2]/div[2]/div/main/div[2]/div/div/div/div[{n * 2}]/div').text)\n",
    "    except:\n",
    "        res = (0, \"Error\")\n",
    "    return res\n",
    "\n",
    "\n",
    "def interact(question):\n",
    "    global COMPTEUR\n",
    "    max_retry = MAX_RETRY\n",
    "\n",
    "    if not question.endswith(\"\\n\"):\n",
    "        question += \"\\n\"\n",
    "    driver.find_element(By.XPATH, '//*[@id=\"prompt-textarea\"]').send_keys(question)\n",
    "\n",
    "    sleep(1)\n",
    "    while is_writing():\n",
    "        sleep(1)\n",
    "    COMPTEUR += 1\n",
    "\n",
    "    t, res = get_answer(COMPTEUR)\n",
    "    while not t and max_retry > 0:\n",
    "        sleep(1)\n",
    "        max_retry -= 1\n",
    "        t, res = get_answer(COMPTEUR)\n",
    "\n",
    "    return res\n",
    "\n",
    "\n",
    "def login():\n",
    "    # click sur log in\n",
    "    driver.find_element(By.XPATH, '//*[@id=\"__next\"]/div[1]/div[1]/div[4]/button[1]').click()\n",
    "    sleep(2)\n",
    "    # saisie de l'email\n",
    "    driver.find_element(By.XPATH, '//*[@id=\"username\"]').send_keys(creds[\"mail\"] + \"\\n\")\n",
    "    sleep(2)\n",
    "    # saisie du mot de passe\n",
    "    driver.find_element(By.XPATH, '//*[@id=\"password\"]').send_keys(creds[\"pass\"] + \"\\n\")\n",
    "    sleep(5)\n",
    "\n",
    "\n",
    "def skip_tuto():\n",
    "    # skip tuto\n",
    "    driver.find_element(By.XPATH, '//*[@id=\"radix-:r9:\"]/div[2]/div/div[2]/button').click()\n",
    "    sleep(.2)\n",
    "    driver.find_element(By.XPATH, '//*[@id=\"radix-:r9:\"]/div[2]/div/div[2]/button[2]').click()\n",
    "    sleep(.2)\n",
    "    driver.find_element(By.XPATH, '//*[@id=\"radix-:r9:\"]/div[2]/div/div[2]/button[2]').click()\n",
    "    sleep(1)"
   ],
   "metadata": {
    "collapsed": false
   }
  },
  {
   "cell_type": "code",
   "execution_count": 36,
   "outputs": [
    {
     "name": "stdout",
     "output_type": "stream",
     "text": [
      "seuil tensor(0.9212)\n",
      "question 5\n",
      "0\n",
      "0\n",
      "0\n",
      "0\n",
      "0\n",
      "\n",
      "Score : \n",
      "\n",
      "  1.0\n",
      "\n",
      "La question : \n",
      "\n",
      " explain the concept of an abdominal aortic aneurysm.\n",
      "\n",
      "La réponse : \n",
      "\n",
      " Your aorta carries oxygen-rich blood away from your heart to the rest of your body and your brain. An abdominal aortic aneurysm or AAA is a balloon-like swelling of the aorta which passes through your abdomen (your tummy area).\n",
      "\n",
      "Your abdominal aorta is usually about 2cm wide or about the width of a garden hose. If you have an aneurysm it can grow from 3cm to over 5.5cm wide. This is classed as an abdominal aortic aneurysm and will need to be checked by a surgical specialist.\n",
      "\n",
      "Score : \n",
      "\n",
      "  0.9617695808410645\n",
      "\n",
      "La question : \n",
      "\n",
      " provide an explanation of an abdominal aortic aneurysm.\n",
      "\n",
      "La réponse : \n",
      "\n",
      " Your aorta carries oxygen-rich blood away from your heart to the rest of your body and your brain. An abdominal aortic aneurysm or AAA is a balloon-like swelling of the aorta which passes through your abdomen (your tummy area).\n",
      "\n",
      "Your abdominal aorta is usually about 2cm wide or about the width of a garden hose. If you have an aneurysm it can grow from 3cm to over 5.5cm wide. This is classed as an abdominal aortic aneurysm and will need to be checked by a surgical specialist.\n"
     ]
    }
   ],
   "source": [
    "import csv\n",
    "\n",
    "seuil = 0.7\n",
    "\n",
    "print('seuil', final_winners[3][1])\n",
    "print('question', final_winners[0][2])\n",
    "print(find_value(correspondance, final_winners[0][2]))\n",
    "print(find_value(correspondance, final_winners[1][2]))\n",
    "print(find_value(correspondance, final_winners[2][2]))\n",
    "print(find_value(correspondance, final_winners[3][2]))\n",
    "print(find_value(correspondance, final_winners[4][2]))\n",
    "\n",
    "if seuil < final_winners[3][1] and find_value(correspondance, final_winners[0][2]) == find_value(correspondance,\n",
    "                                                                                                 final_winners[1][\n",
    "                                                                                                     2]) == find_value(\n",
    "        correspondance, final_winners[2][2]) == find_value(correspondance, final_winners[3][2]):\n",
    "    for arr in final_winners[0:2]:\n",
    "        print(f'\\nScore : \\n\\n  {arr[1]}')\n",
    "        print(f'\\nLa question : \\n\\n {arr[0]}')\n",
    "        indice_rep = find_value(correspondance, arr[2])\n",
    "        print(f'\\nLa réponse : \\n\\n {data[\"a_EN\"][indice_rep]}')\n",
    "else:\n",
    "    print(\"On interroge l'IA ChatGPT\")\n",
    "    # Il faut enregistrer la question dans un fichier csv (forme : questions, réponse) à la suite des autres questions\n",
    "    filename = \"./question_sans_reponse.csv\"\n",
    "    # Préparez les données à ajouter\n",
    "    new_data = [our_sentence, None]\n",
    "\n",
    "    # Ouvrez le fichier en mode d'ajout\n",
    "    with open(filename, 'a', newline='') as f:\n",
    "        writer = csv.writer(f)\n",
    "        writer.writerow(new_data)\n",
    "\n",
    "    #login()\n",
    "    #skip_tuto()\n",
    "    #res = interact(\"Hello, how are you?\")\n",
    "    #print(res)\n",
    "    #sleep(2) # vaux mieux attendre un peu entre chaque question, sinon ca crash\n",
    "    #res = interact(\"OpenAI, I broke your api. How do you feel about that huh?\")\n",
    "    #print(\"\\n\" + res)"
   ],
   "metadata": {
    "collapsed": false,
    "ExecuteTime": {
     "end_time": "2023-06-11T18:55:44.198953Z",
     "start_time": "2023-06-11T18:55:44.176637Z"
    }
   }
  },
  {
   "cell_type": "markdown",
   "source": [
    "Il reste l'intégration chat"
   ],
   "metadata": {
    "collapsed": false
   }
  }
 ],
 "metadata": {
  "kernelspec": {
   "display_name": "Python 3 (ipykernel)",
   "language": "python",
   "name": "python3"
  },
  "language_info": {
   "codemirror_mode": {
    "name": "ipython",
    "version": 3
   },
   "file_extension": ".py",
   "mimetype": "text/x-python",
   "name": "python",
   "nbconvert_exporter": "python",
   "pygments_lexer": "ipython3",
   "version": "3.8.16"
  }
 },
 "nbformat": 4,
 "nbformat_minor": 1
}
