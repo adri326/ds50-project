{
 "cells": [
  {
   "cell_type": "code",
   "execution_count": 1,
   "metadata": {
    "ExecuteTime": {
     "end_time": "2023-06-01T20:58:50.152398Z",
     "start_time": "2023-06-01T20:58:43.465256Z"
    }
   },
   "outputs": [],
   "source": [
    "import pandas as pd\n",
    "from sentence_transformers import SentenceTransformer, util\n",
    "\n",
    "model = SentenceTransformer('all-MiniLM-L6-v2')"
   ]
  },
  {
   "cell_type": "code",
   "execution_count": 2,
   "metadata": {
    "ExecuteTime": {
     "end_time": "2023-06-01T20:58:50.171471Z",
     "start_time": "2023-06-01T20:58:50.152871Z"
    }
   },
   "outputs": [
    {
     "data": {
      "text/plain": "                                                q_EN  \\\n0              What is an abdominal aortic aneurysm?   \n1  What are the symptoms of an abdominal aortic a...   \n2  What are the causes of abdominal aortic aneury...   \n3     How is an abdominal aortic aneurysm diagnosed?   \n4  When should I get an abdominal aortic aneurysm...   \n\n                                               qs_EN  \\\n0  [Define an abdominal aortic aneurysm., How wou...   \n1  [List the symptoms associated with an abdomina...   \n2  [Enumerate the factors responsible for causing...   \n3  [Outline the diagnostic methods used for detec...   \n4  [What is the recommended timing for undergoing...   \n\n                                                a_EN  \\\n0  Your aorta carries oxygen-rich blood away from...   \n1  In most cases there are no noticeable symptoms...   \n2  It’s not known exactly what causes abdominal a...   \n3  An AAA is sometimes picked up during tests for...   \n4  Abdominal aortic aneurysm is far more common i...   \n\n                                                q_FR  qs_FR  \\\n0  Qu'est-ce qu'un anévrisme de l'aorte abdominale ?    NaN   \n1  Quels sont les symptômes d'un anévrisme de l'a...    NaN   \n2  Quelles sont les causes de l'anévrisme de l'ao...    NaN   \n3  Comment diagnostiquer un anévrisme de l'aorte ...    NaN   \n4  Quand dois-je faire un dépistage de l'anévrism...    NaN   \n\n                                                a_FR  \\\n0  L'aorte transporte le sang riche en oxygène du...   \n1  Dans la plupart des cas, aucun symptôme n'est ...   \n2  On ne connaît pas exactement les causes de l'a...   \n3  Un AAA est parfois détecté lors d'examens visa...   \n4  L'anévrisme de l'aorte abdominale est beaucoup...   \n\n                                                 URL  \\\n0  https://www.bhf.org.uk/informationsupport/cond...   \n1  https://www.bhf.org.uk/informationsupport/cond...   \n2  https://www.bhf.org.uk/informationsupport/cond...   \n3  https://www.bhf.org.uk/informationsupport/cond...   \n4  https://www.bhf.org.uk/informationsupport/cond...   \n\n                        Name  \n0  abdominal-aortic-aneurysm  \n1  abdominal-aortic-aneurysm  \n2  abdominal-aortic-aneurysm  \n3  abdominal-aortic-aneurysm  \n4  abdominal-aortic-aneurysm  ",
      "text/html": "<div>\n<style scoped>\n    .dataframe tbody tr th:only-of-type {\n        vertical-align: middle;\n    }\n\n    .dataframe tbody tr th {\n        vertical-align: top;\n    }\n\n    .dataframe thead th {\n        text-align: right;\n    }\n</style>\n<table border=\"1\" class=\"dataframe\">\n  <thead>\n    <tr style=\"text-align: right;\">\n      <th></th>\n      <th>q_EN</th>\n      <th>qs_EN</th>\n      <th>a_EN</th>\n      <th>q_FR</th>\n      <th>qs_FR</th>\n      <th>a_FR</th>\n      <th>URL</th>\n      <th>Name</th>\n    </tr>\n  </thead>\n  <tbody>\n    <tr>\n      <th>0</th>\n      <td>What is an abdominal aortic aneurysm?</td>\n      <td>[Define an abdominal aortic aneurysm., How wou...</td>\n      <td>Your aorta carries oxygen-rich blood away from...</td>\n      <td>Qu'est-ce qu'un anévrisme de l'aorte abdominale ?</td>\n      <td>NaN</td>\n      <td>L'aorte transporte le sang riche en oxygène du...</td>\n      <td>https://www.bhf.org.uk/informationsupport/cond...</td>\n      <td>abdominal-aortic-aneurysm</td>\n    </tr>\n    <tr>\n      <th>1</th>\n      <td>What are the symptoms of an abdominal aortic a...</td>\n      <td>[List the symptoms associated with an abdomina...</td>\n      <td>In most cases there are no noticeable symptoms...</td>\n      <td>Quels sont les symptômes d'un anévrisme de l'a...</td>\n      <td>NaN</td>\n      <td>Dans la plupart des cas, aucun symptôme n'est ...</td>\n      <td>https://www.bhf.org.uk/informationsupport/cond...</td>\n      <td>abdominal-aortic-aneurysm</td>\n    </tr>\n    <tr>\n      <th>2</th>\n      <td>What are the causes of abdominal aortic aneury...</td>\n      <td>[Enumerate the factors responsible for causing...</td>\n      <td>It’s not known exactly what causes abdominal a...</td>\n      <td>Quelles sont les causes de l'anévrisme de l'ao...</td>\n      <td>NaN</td>\n      <td>On ne connaît pas exactement les causes de l'a...</td>\n      <td>https://www.bhf.org.uk/informationsupport/cond...</td>\n      <td>abdominal-aortic-aneurysm</td>\n    </tr>\n    <tr>\n      <th>3</th>\n      <td>How is an abdominal aortic aneurysm diagnosed?</td>\n      <td>[Outline the diagnostic methods used for detec...</td>\n      <td>An AAA is sometimes picked up during tests for...</td>\n      <td>Comment diagnostiquer un anévrisme de l'aorte ...</td>\n      <td>NaN</td>\n      <td>Un AAA est parfois détecté lors d'examens visa...</td>\n      <td>https://www.bhf.org.uk/informationsupport/cond...</td>\n      <td>abdominal-aortic-aneurysm</td>\n    </tr>\n    <tr>\n      <th>4</th>\n      <td>When should I get an abdominal aortic aneurysm...</td>\n      <td>[What is the recommended timing for undergoing...</td>\n      <td>Abdominal aortic aneurysm is far more common i...</td>\n      <td>Quand dois-je faire un dépistage de l'anévrism...</td>\n      <td>NaN</td>\n      <td>L'anévrisme de l'aorte abdominale est beaucoup...</td>\n      <td>https://www.bhf.org.uk/informationsupport/cond...</td>\n      <td>abdominal-aortic-aneurysm</td>\n    </tr>\n  </tbody>\n</table>\n</div>"
     },
     "execution_count": 2,
     "metadata": {},
     "output_type": "execute_result"
    }
   ],
   "source": [
    "# Récupération des données du JSON ./dataset/dataset_5Q.json\n",
    "data = pd.read_json('../../dataset/dataset_5Q.json')\n",
    "data.head()"
   ]
  },
  {
   "cell_type": "code",
   "execution_count": 3,
   "metadata": {
    "ExecuteTime": {
     "end_time": "2023-06-01T20:58:50.171947Z",
     "start_time": "2023-06-01T20:58:50.171061Z"
    }
   },
   "outputs": [
    {
     "name": "stdout",
     "output_type": "stream",
     "text": [
      "Define an abdominal aortic aneurysm.\n",
      "What is an abdominal aortic aneurysm?\n"
     ]
    }
   ],
   "source": [
    "# Récupérer les questions\n",
    "questions = data[\"q_EN\"].unique()\n",
    "liste_questions = data[\"qs_EN\"]\n",
    "\n",
    "print(liste_questions[0][0])\n",
    "\n",
    "print(questions[0])"
   ]
  },
  {
   "cell_type": "code",
   "execution_count": 4,
   "outputs": [],
   "source": [
    "res = [[i]+ j for i, j in zip(questions, liste_questions)]"
   ],
   "metadata": {
    "collapsed": false,
    "ExecuteTime": {
     "end_time": "2023-06-01T20:59:30.742152Z",
     "start_time": "2023-06-01T20:59:30.735882Z"
    }
   }
  },
  {
   "cell_type": "code",
   "execution_count": 5,
   "metadata": {
    "ExecuteTime": {
     "end_time": "2023-06-01T20:59:32.846316Z",
     "start_time": "2023-06-01T20:59:32.842251Z"
    }
   },
   "outputs": [
    {
     "name": "stdout",
     "output_type": "stream",
     "text": [
      "[['how can an abdominal aortic aneurysm be treated?', 'what are the treatment options available for managing an abdominal aortic aneurysm?', 'how can medical professionals treat an abdominal aortic aneurysm?', 'list the modalities used in the treatment of abdominal aortic aneurysms.', 'what are the approaches to treating an abdominal aortic aneurysm?', 'provide an overview of the treatment methods employed for addressing an abdominal aortic aneurysm.']] \n",
      "\n",
      "Length Of Data 565\n"
     ]
    }
   ],
   "source": [
    "# this is not production ready data!!\n",
    "# this is not production ready data!!\n",
    "sentences = [[sentence.lower()\n",
    "             .replace('br','')\n",
    "             .replace('<',\"\")\n",
    "             .replace(\">\", \"\")\n",
    "             .replace('\\\\',\"\")\n",
    "             .replace('\\/',\"\")\n",
    "             for sentence in sublist]\n",
    "             for sublist in res]\n",
    "\n",
    "\n",
    "\n",
    "#see a sentence, and our length\n",
    "print(sentences[5:6], f'\\n\\nLength Of Data {len(sentences)}')\n"
   ]
  },
  {
   "cell_type": "code",
   "execution_count": 8,
   "outputs": [
    {
     "name": "stdout",
     "output_type": "stream",
     "text": [
      "[[[0, 1, 2, 3, 4, 5], 0], [[6, 7, 8, 9, 10, 11], 1], [[12, 13, 14, 15, 16, 17], 2], [[18, 19, 20, 21, 22, 23], 3], [[24, 25, 26, 27, 28, 29], 4]]\n"
     ]
    }
   ],
   "source": [
    "# On doit applatire le dataset, donc nous créons une liste avec l'id des questions dans un tableau et l'id de la réponse de la forme [[[id_question, id_question,...], id_reponse], ...]\n",
    "\n",
    "correspondance = []\n",
    "\n",
    "compteur = 0\n",
    "\n",
    "for i in range (len(sentences)):\n",
    "    correspondance.append([[], i])\n",
    "    for j in range (len(sentences[i])):\n",
    "        correspondance[i][0].append(compteur)\n",
    "        compteur += 1\n",
    "print(correspondance[0:5])"
   ],
   "metadata": {
    "collapsed": false,
    "ExecuteTime": {
     "end_time": "2023-06-01T21:08:50.426574Z",
     "start_time": "2023-06-01T21:08:50.423161Z"
    }
   }
  },
  {
   "cell_type": "code",
   "execution_count": 6,
   "outputs": [],
   "source": [
    "# créer une dataframe avec les questions et les réponses\n",
    "\n",
    "df = pd.DataFrame({'questions': sentences, 'reponses': data[\"a_EN\"]})\n",
    "\n",
    "# Enregistrer la dataframe dans un fichier csv\n",
    "df.to_csv('../../dataset/dataset_5Q_traite.csv', index=False)"
   ],
   "metadata": {
    "collapsed": false,
    "ExecuteTime": {
     "end_time": "2023-06-01T21:00:31.957347Z",
     "start_time": "2023-06-01T21:00:31.930204Z"
    }
   }
  },
  {
   "cell_type": "code",
   "execution_count": 9,
   "outputs": [
    {
     "name": "stdout",
     "output_type": "stream",
     "text": [
      "['what is an abdominal aortic aneurysm?', 'define an abdominal aortic aneurysm.', 'how would you describe an abdominal aortic aneurysm?', 'provide an explanation of an abdominal aortic aneurysm.', 'what can you tell me about abdominal aortic aneurysms?']\n"
     ]
    }
   ],
   "source": [
    "# On doit applatire le dataset\n",
    "\n",
    "sentences = [sentence for sublist in sentences for sentence in sublist]\n",
    "\n",
    "print(sentences[0:5])"
   ],
   "metadata": {
    "collapsed": false,
    "ExecuteTime": {
     "end_time": "2023-06-01T21:09:47.172880Z",
     "start_time": "2023-06-01T21:09:47.167856Z"
    }
   }
  },
  {
   "cell_type": "code",
   "execution_count": 10,
   "metadata": {
    "ExecuteTime": {
     "end_time": "2023-06-01T21:10:03.678132Z",
     "start_time": "2023-06-01T21:10:03.673778Z"
    }
   },
   "outputs": [],
   "source": [
    "our_sentence_origine = 'What are the symptoms of an abdominal aortic aneurysm?'\n",
    "our_sentence = 'What signs and symptoms indicate the presence of an abdominal aortic aneurysm?'"
   ]
  },
  {
   "cell_type": "code",
   "execution_count": 11,
   "metadata": {
    "ExecuteTime": {
     "end_time": "2023-06-01T21:12:15.444583Z",
     "start_time": "2023-06-01T21:12:09.980948Z"
    }
   },
   "outputs": [
    {
     "name": "stdout",
     "output_type": "stream",
     "text": [
      "[['what signs indicate the presence of an abdominal aortic aneurysm?', tensor(0.9805), 8], ['what are the recognizable symptoms of an abdominal aortic aneurysm?', tensor(0.9719), 10]]\n"
     ]
    }
   ],
   "source": [
    "# lets embed our sentence\n",
    "my_embedding = model.encode(our_sentence)\n",
    "\n",
    "# lets embed the corpus\n",
    "embeddings = model.encode(sentences)\n",
    "\n",
    "#Compute cosine similarity between my sentence, and each one in the corpus\n",
    "cos_sim = util.cos_sim(my_embedding, embeddings)\n",
    "\n",
    "# lets go through our array and find our best one!\n",
    "# remember, we want the highest value here (highest cosine similiarity)\n",
    "winners = []\n",
    "for arr in cos_sim:\n",
    "    for i, each_val in enumerate(arr):\n",
    "        winners.append([sentences[i],each_val, i])\n",
    "\n",
    "# lets get the top 2 sentences\n",
    "final_winners = sorted(winners, key=lambda x: x[1], reverse=True)\n",
    "\n",
    "print(final_winners[0:2])"
   ]
  },
  {
   "cell_type": "code",
   "execution_count": 12,
   "outputs": [],
   "source": [
    "def find_value(data, x):\n",
    "    for sublist in data:\n",
    "        if x in sublist[0]:\n",
    "            return sublist[1]\n",
    "    return None  # Retourne None si la valeur n'est pas trouvée"
   ],
   "metadata": {
    "collapsed": false,
    "ExecuteTime": {
     "end_time": "2023-06-01T21:14:54.101058Z",
     "start_time": "2023-06-01T21:14:54.095055Z"
    }
   }
  },
  {
   "cell_type": "code",
   "execution_count": 18,
   "outputs": [
    {
     "name": "stdout",
     "output_type": "stream",
     "text": [
      "\n",
      "Score : \n",
      "\n",
      "  0.9805396795272827\n",
      "\n",
      "La question : \n",
      "\n",
      " what signs indicate the presence of an abdominal aortic aneurysm?\n",
      "\n",
      "La réponse : \n",
      "\n",
      " In most cases there are no noticeable symptoms and most people with AAA won’t be aware that they have one. However, if an aneurysm becomes large it can cause:\n",
      "\n",
      "- A pulsating feeling in your stomach\n",
      "- Pain in your stomach\n",
      "- Persistent back pain.\n",
      "\n",
      "A large aneurysm can burst and cause internal bleeding. This is a medical emergency and you should call 999 immediately if you or someone with you has any of these symptoms:\n",
      "\n",
      "- A sudden severe pain in the abdomen, back or lower back area\n",
      "- Feeling cold, clammy, sweaty, faint and breathless\n",
      "- Fainting or passing out.\n",
      "\n",
      "Score : \n",
      "\n",
      "  0.9719202518463135\n",
      "\n",
      "La question : \n",
      "\n",
      " what are the recognizable symptoms of an abdominal aortic aneurysm?\n",
      "\n",
      "La réponse : \n",
      "\n",
      " In most cases there are no noticeable symptoms and most people with AAA won’t be aware that they have one. However, if an aneurysm becomes large it can cause:\n",
      "\n",
      "- A pulsating feeling in your stomach\n",
      "- Pain in your stomach\n",
      "- Persistent back pain.\n",
      "\n",
      "A large aneurysm can burst and cause internal bleeding. This is a medical emergency and you should call 999 immediately if you or someone with you has any of these symptoms:\n",
      "\n",
      "- A sudden severe pain in the abdomen, back or lower back area\n",
      "- Feeling cold, clammy, sweaty, faint and breathless\n",
      "- Fainting or passing out.\n"
     ]
    }
   ],
   "source": [
    "for arr in final_winners[0:2]:\n",
    "    print(f'\\nScore : \\n\\n  {arr[1]}')\n",
    "    print(f'\\nLa question : \\n\\n {arr[0]}')\n",
    "    indice_rep = find_value(correspondance, arr[2])\n",
    "    print(f'\\nLa réponse : \\n\\n {data[\"a_EN\"][indice_rep]}')"
   ],
   "metadata": {
    "collapsed": false,
    "ExecuteTime": {
     "end_time": "2023-06-01T21:17:25.513002Z",
     "start_time": "2023-06-01T21:17:25.509137Z"
    }
   }
  },
  {
   "cell_type": "markdown",
   "source": [
    "On pourrait imaginer que sur les 5 premiers cos_similarité, on regarde si c'est la même question au moins 4 fois, si oui, on prend la réponse de la question qui a le plus de cos_similarité. Donc notre probabilité est très forte sinon on interroge l'IA ChatGPT."
   ],
   "metadata": {
    "collapsed": false
   }
  }
 ],
 "metadata": {
  "kernelspec": {
   "display_name": "Python 3 (ipykernel)",
   "language": "python",
   "name": "python3"
  },
  "language_info": {
   "codemirror_mode": {
    "name": "ipython",
    "version": 3
   },
   "file_extension": ".py",
   "mimetype": "text/x-python",
   "name": "python",
   "nbconvert_exporter": "python",
   "pygments_lexer": "ipython3",
   "version": "3.8.16"
  }
 },
 "nbformat": 4,
 "nbformat_minor": 1
}
