{
 "cells": [
  {
   "cell_type": "markdown",
   "source": [
    "https://enjoymachinelearning.com/blog/finding-semantic-similarity-between-sentences-in-python/"
   ],
   "metadata": {
    "collapsed": false
   }
  },
  {
   "cell_type": "code",
   "execution_count": 1,
   "outputs": [
    {
     "name": "stdout",
     "output_type": "stream",
     "text": [
      "[\"will they ever make movies without nudity and sex? this came on at 3:00 on sunday afternoon and i couldn't believe what they showed. thank god my son was outside or i would have been freaked out if he had seen the soft/medium porn! do people who make movies not care who they offend or corrupt? kids could have been watching after church and that is what they show???!!! the acting was good and i enjoyed the suspense but gee! there was violence and bad guys but that is to be expected in a western movie. randy travis was really good in his role. if the writers, directors and producers would just quit putting on so much uncalled for sex scenes. what has to happen to get them to quit going in that direction? where can i complain?\"] \n",
      "\n",
      "Length Of Data 2000\n"
     ]
    }
   ],
   "source": [
    "# comparing the two sentences using SBERT and Cosine Similarity\n",
    "\n",
    "# here's the install command\n",
    "#!pip install -U sentence-transformers\n",
    "import pandas as pd\n",
    "from sentence_transformers import SentenceTransformer, util\n",
    "\n",
    "\n",
    "# load our Sentence Transformers model pre trained!!\n",
    "model = SentenceTransformer('all-MiniLM-L6-v2')\n",
    "\n",
    "\n",
    "# as always, we will get sentences from a\n",
    "# public kaggle dataset\n",
    "# https://www.kaggle.com/datasets/columbine/imdb-dataset-sentiment-analysis-in-csv-format?resource=download\n",
    "df = pd.read_csv('../../dataset/similarity/train.csv')\n",
    "\n",
    "# while this data has lots of good info, we just need the reviews\n",
    "# let's grab 2000\n",
    "\n",
    "# in real-life, you should not clean data like this\n",
    "# since this wasn't a data cleaning tutorial I didn't want to bloat\n",
    "# the code\n",
    "\n",
    "# this is not production ready data!!\n",
    "sentences = [sentence.lower()\n",
    "             .replace('br','')\n",
    "             .replace('<',\"\")\n",
    "             .replace(\">\", \"\")\n",
    "             .replace('\\\\',\"\")\n",
    "             .replace('\\/',\"\")\n",
    "             for sentence in df.text.sample(n=2000)]\n",
    "\n",
    "\n",
    "#see a sentence, and our length\n",
    "print(sentences[5:6], f'\\n\\nLength Of Data {len(sentences)}')"
   ],
   "metadata": {
    "collapsed": false,
    "ExecuteTime": {
     "end_time": "2023-06-01T07:54:37.693085Z",
     "start_time": "2023-06-01T07:53:56.480065Z"
    }
   }
  },
  {
   "cell_type": "code",
   "execution_count": 2,
   "outputs": [
    {
     "name": "stdout",
     "output_type": "stream",
     "text": [
      "\n",
      "Score : \n",
      "\n",
      "  0.4957503080368042\n",
      "\n",
      "Sentence : \n",
      "\n",
      " gone in 60 sec. where do i began, it keeps you in the movie with some good action and some cool cars. people say its not a good movie i disagree sure it has some cheesy parts but what action movie doesn't. i gave it an 8 out of 10 cause of the action and the comic relief if you like the rock or face off than this movie is right up your alley cage dose a good job along with one of the most under rated actors in my mind del-roy lindo. i think sometimes people look to far into movies some times you need to sit back enjoy the movie and after words ask yourself did they achieve what they where showing. meaning if they where going for action was it action pact. if they where trying to make a movie to change how movies are made and trying to win every award out their well did they? i think they made the action movie they set out to make, give it a chance and you wont be sorry.\n",
      "\n",
      "Score : \n",
      "\n",
      "  0.48675280809402466\n",
      "\n",
      "Sentence : \n",
      "\n",
      " this movie really rocks! jeff wincott is terrific in the film! his fighting incredible! he is such a fast martial artist! igitte nielsen & matthias hues was very good! mission of justice is an action packed movie that is never boring! if you like fighting movies with incredible non stop action then check out mission of justice today!\n"
     ]
    }
   ],
   "source": [
    "# lets find the semantically closest sentence to a random sentence\n",
    "# that we come up with, in our dataset\n",
    "\n",
    "# i like action movies, mission impossible is one of my favorites\n",
    "our_sentence = 'I really love action movies, huge tom cruise fan!'\n",
    "\n",
    "# lets embed our sentence\n",
    "my_embedding = model.encode(our_sentence)\n",
    "\n",
    "# lets embed the corpus\n",
    "embeddings = model.encode(sentences)\n",
    "\n",
    "#Compute cosine similarity between my sentence, and each one in the corpus\n",
    "cos_sim = util.cos_sim(my_embedding, embeddings)\n",
    "\n",
    "# lets go through our array and find our best one!\n",
    "# remember, we want the highest value here (highest cosine similiarity)\n",
    "winners = []\n",
    "for arr in cos_sim:\n",
    "    for i, each_val in enumerate(arr):\n",
    "        winners.append([sentences[i],each_val])\n",
    "\n",
    "# lets get the top 2 sentences\n",
    "final_winners = sorted(winners, key=lambda x: x[1], reverse=True)\n",
    "\n",
    "\n",
    "\n",
    "for arr in final_winners[0:2]:\n",
    "    print(f'\\nScore : \\n\\n  {arr[1]}')\n",
    "    print(f'\\nSentence : \\n\\n {arr[0]}')"
   ],
   "metadata": {
    "collapsed": false,
    "ExecuteTime": {
     "start_time": "2023-06-01T07:54:43.128218Z"
    }
   }
  }
 ],
 "metadata": {
  "kernelspec": {
   "display_name": "Python 3",
   "language": "python",
   "name": "python3"
  },
  "language_info": {
   "codemirror_mode": {
    "name": "ipython",
    "version": 2
   },
   "file_extension": ".py",
   "mimetype": "text/x-python",
   "name": "python",
   "nbconvert_exporter": "python",
   "pygments_lexer": "ipython2",
   "version": "2.7.6"
  }
 },
 "nbformat": 4,
 "nbformat_minor": 0
}
