{
 "cells": [
  {
   "cell_type": "code",
   "execution_count": 1,
   "metadata": {
    "collapsed": true,
    "ExecuteTime": {
     "end_time": "2023-06-01T07:55:30.813090Z",
     "start_time": "2023-06-01T07:55:23.164514Z"
    }
   },
   "outputs": [],
   "source": [
    "import pandas as pd\n",
    "from sentence_transformers import SentenceTransformer, util\n",
    "\n",
    "model = SentenceTransformer('all-MiniLM-L6-v2')"
   ]
  },
  {
   "cell_type": "code",
   "execution_count": 2,
   "outputs": [
    {
     "data": {
      "text/plain": "                                           questions  \\\n0              What is an abdominal aortic aneurysm?   \n1  What are the symptoms of an abdominal aortic a...   \n2  What are the causes of abdominal aortic aneury...   \n3     How is an abdominal aortic aneurysm diagnosed?   \n4  When should I get an abdominal aortic aneurysm...   \n\n                                             answers  \\\n0  Your aorta carries oxygen-rich blood away from...   \n1  In most cases there are no noticeable symptoms...   \n2  It’s not known exactly what causes abdominal a...   \n3  An AAA is sometimes picked up during tests for...   \n4  Abdominal aortic aneurysm is far more common i...   \n\n                                                 url  \\\n0  https://www.bhf.org.uk/informationsupport/cond...   \n1  https://www.bhf.org.uk/informationsupport/cond...   \n2  https://www.bhf.org.uk/informationsupport/cond...   \n3  https://www.bhf.org.uk/informationsupport/cond...   \n4  https://www.bhf.org.uk/informationsupport/cond...   \n\n                        name  \n0  abdominal-aortic-aneurysm  \n1  abdominal-aortic-aneurysm  \n2  abdominal-aortic-aneurysm  \n3  abdominal-aortic-aneurysm  \n4  abdominal-aortic-aneurysm  ",
      "text/html": "<div>\n<style scoped>\n    .dataframe tbody tr th:only-of-type {\n        vertical-align: middle;\n    }\n\n    .dataframe tbody tr th {\n        vertical-align: top;\n    }\n\n    .dataframe thead th {\n        text-align: right;\n    }\n</style>\n<table border=\"1\" class=\"dataframe\">\n  <thead>\n    <tr style=\"text-align: right;\">\n      <th></th>\n      <th>questions</th>\n      <th>answers</th>\n      <th>url</th>\n      <th>name</th>\n    </tr>\n  </thead>\n  <tbody>\n    <tr>\n      <th>0</th>\n      <td>What is an abdominal aortic aneurysm?</td>\n      <td>Your aorta carries oxygen-rich blood away from...</td>\n      <td>https://www.bhf.org.uk/informationsupport/cond...</td>\n      <td>abdominal-aortic-aneurysm</td>\n    </tr>\n    <tr>\n      <th>1</th>\n      <td>What are the symptoms of an abdominal aortic a...</td>\n      <td>In most cases there are no noticeable symptoms...</td>\n      <td>https://www.bhf.org.uk/informationsupport/cond...</td>\n      <td>abdominal-aortic-aneurysm</td>\n    </tr>\n    <tr>\n      <th>2</th>\n      <td>What are the causes of abdominal aortic aneury...</td>\n      <td>It’s not known exactly what causes abdominal a...</td>\n      <td>https://www.bhf.org.uk/informationsupport/cond...</td>\n      <td>abdominal-aortic-aneurysm</td>\n    </tr>\n    <tr>\n      <th>3</th>\n      <td>How is an abdominal aortic aneurysm diagnosed?</td>\n      <td>An AAA is sometimes picked up during tests for...</td>\n      <td>https://www.bhf.org.uk/informationsupport/cond...</td>\n      <td>abdominal-aortic-aneurysm</td>\n    </tr>\n    <tr>\n      <th>4</th>\n      <td>When should I get an abdominal aortic aneurysm...</td>\n      <td>Abdominal aortic aneurysm is far more common i...</td>\n      <td>https://www.bhf.org.uk/informationsupport/cond...</td>\n      <td>abdominal-aortic-aneurysm</td>\n    </tr>\n  </tbody>\n</table>\n</div>"
     },
     "execution_count": 2,
     "metadata": {},
     "output_type": "execute_result"
    }
   ],
   "source": [
    "data = pd.read_feather(\"./dataset.feather\")\n",
    "data.head()"
   ],
   "metadata": {
    "collapsed": false,
    "ExecuteTime": {
     "end_time": "2023-06-01T07:55:30.915218Z",
     "start_time": "2023-06-01T07:55:30.804330Z"
    }
   }
  },
  {
   "cell_type": "code",
   "execution_count": 3,
   "outputs": [
    {
     "data": {
      "text/plain": "'What is an abdominal aortic aneurysm?'"
     },
     "execution_count": 3,
     "metadata": {},
     "output_type": "execute_result"
    }
   ],
   "source": [
    "# Récupérer les questions\n",
    "questions = data[\"questions\"].unique()\n",
    "\n",
    "questions[0]"
   ],
   "metadata": {
    "collapsed": false,
    "ExecuteTime": {
     "end_time": "2023-06-01T07:55:36.817307Z",
     "start_time": "2023-06-01T07:55:36.809325Z"
    }
   }
  },
  {
   "cell_type": "code",
   "execution_count": 4,
   "outputs": [
    {
     "name": "stdout",
     "output_type": "stream",
     "text": [
      "['how can an abdominal aortic aneurysm be treated?'] \n",
      "\n",
      "Length Of Data 569\n"
     ]
    }
   ],
   "source": [
    "# this is not production ready data!!\n",
    "sentences = [sentence.lower()\n",
    "             .replace('br','')\n",
    "             .replace('<',\"\")\n",
    "             .replace(\">\", \"\")\n",
    "             .replace('\\\\',\"\")\n",
    "             .replace('\\/',\"\")\n",
    "             for sentence in questions]\n",
    "\n",
    "\n",
    "#see a sentence, and our length\n",
    "print(sentences[5:6], f'\\n\\nLength Of Data {len(sentences)}')"
   ],
   "metadata": {
    "collapsed": false,
    "ExecuteTime": {
     "end_time": "2023-06-01T07:55:39.621893Z",
     "start_time": "2023-06-01T07:55:39.615043Z"
    }
   }
  },
  {
   "cell_type": "code",
   "execution_count": 5,
   "outputs": [],
   "source": [
    "our_sentence_origine = 'What are the symptoms of an abdominal aortic aneurysm?'\n",
    "our_sentence = 'What signs and symptoms indicate the presence of an abdominal aortic aneurysm?'"
   ],
   "metadata": {
    "collapsed": false,
    "ExecuteTime": {
     "end_time": "2023-06-01T07:55:55.983476Z",
     "start_time": "2023-06-01T07:55:55.965227Z"
    }
   }
  },
  {
   "cell_type": "code",
   "execution_count": 6,
   "outputs": [
    {
     "name": "stdout",
     "output_type": "stream",
     "text": [
      "\n",
      "Score : \n",
      "\n",
      "  0.9682747721672058\n",
      "\n",
      "La question : \n",
      "\n",
      " what are the symptoms of an abdominal aortic aneurysm?\n",
      "\n",
      "La réponse : \n",
      "\n",
      " In most cases there are no noticeable symptoms and most people with AAA won’t be aware that they have one. However, if an aneurysm becomes large it can cause:\n",
      "\n",
      "- A pulsating feeling in your stomach\n",
      "- Pain in your stomach\n",
      "- Persistent back pain.\n",
      "\n",
      "A large aneurysm can burst and cause internal bleeding. This is a medical emergency and you should call 999 immediately if you or someone with you has any of these symptoms:\n",
      "\n",
      "- A sudden severe pain in the abdomen, back or lower back area\n",
      "- Feeling cold, clammy, sweaty, faint and breathless\n",
      "- Fainting or passing out.\n",
      "\n",
      "Score : \n",
      "\n",
      "  0.8461344242095947\n",
      "\n",
      "La question : \n",
      "\n",
      " how is an abdominal aortic aneurysm diagnosed?\n",
      "\n",
      "La réponse : \n",
      "\n",
      " An AAA is sometimes picked up during tests for other conditions, commonly by:\n",
      "\n",
      "- Ultrasound\n",
      "- CT scan\n",
      "- MRI scan.\n"
     ]
    }
   ],
   "source": [
    "# lets embed our sentence\n",
    "my_embedding = model.encode(our_sentence)\n",
    "\n",
    "# lets embed the corpus\n",
    "embeddings = model.encode(sentences)\n",
    "\n",
    "#Compute cosine similarity between my sentence, and each one in the corpus\n",
    "cos_sim = util.cos_sim(my_embedding, embeddings)\n",
    "\n",
    "# lets go through our array and find our best one!\n",
    "# remember, we want the highest value here (highest cosine similiarity)\n",
    "winners = []\n",
    "for arr in cos_sim:\n",
    "    for i, each_val in enumerate(arr):\n",
    "        winners.append([sentences[i],each_val, i])\n",
    "\n",
    "# lets get the top 2 sentences\n",
    "final_winners = sorted(winners, key=lambda x: x[1], reverse=True)\n",
    "\n",
    "for arr in final_winners[0:2]:\n",
    "    print(f'\\nScore : \\n\\n  {arr[1]}')\n",
    "    print(f'\\nLa question : \\n\\n {arr[0]}')\n",
    "    print(f'\\nLa réponse : \\n\\n {data[\"answers\"][arr[2]]}')"
   ],
   "metadata": {
    "collapsed": false,
    "ExecuteTime": {
     "end_time": "2023-06-01T07:55:58.763994Z",
     "start_time": "2023-06-01T07:55:57.773303Z"
    }
   }
  }
 ],
 "metadata": {
  "kernelspec": {
   "display_name": "Python 3",
   "language": "python",
   "name": "python3"
  },
  "language_info": {
   "codemirror_mode": {
    "name": "ipython",
    "version": 2
   },
   "file_extension": ".py",
   "mimetype": "text/x-python",
   "name": "python",
   "nbconvert_exporter": "python",
   "pygments_lexer": "ipython2",
   "version": "2.7.6"
  }
 },
 "nbformat": 4,
 "nbformat_minor": 0
}
