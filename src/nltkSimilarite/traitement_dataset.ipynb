{
 "cells": [
  {
   "cell_type": "code",
   "execution_count": 7,
   "metadata": {
    "collapsed": true,
    "ExecuteTime": {
     "end_time": "2023-05-22T14:53:56.228825Z",
     "start_time": "2023-05-22T14:53:56.222483Z"
    }
   },
   "outputs": [],
   "source": [
    "import pandas as pd\n",
    "import json"
   ]
  },
  {
   "cell_type": "code",
   "execution_count": 5,
   "outputs": [
    {
     "data": {
      "text/plain": "                                           questions  \\\n0              What is an abdominal aortic aneurysm?   \n1  What are the symptoms of an abdominal aortic a...   \n2  What are the causes of abdominal aortic aneury...   \n3     How is an abdominal aortic aneurysm diagnosed?   \n4  When should I get an abdominal aortic aneurysm...   \n\n                                             answers  \\\n0  Your aorta carries oxygen-rich blood away from...   \n1  In most cases there are no noticeable symptoms...   \n2  It’s not known exactly what causes abdominal a...   \n3  An AAA is sometimes picked up during tests for...   \n4  Abdominal aortic aneurysm is far more common i...   \n\n                                                 url  \\\n0  https://www.bhf.org.uk/informationsupport/cond...   \n1  https://www.bhf.org.uk/informationsupport/cond...   \n2  https://www.bhf.org.uk/informationsupport/cond...   \n3  https://www.bhf.org.uk/informationsupport/cond...   \n4  https://www.bhf.org.uk/informationsupport/cond...   \n\n                        name  \n0  abdominal-aortic-aneurysm  \n1  abdominal-aortic-aneurysm  \n2  abdominal-aortic-aneurysm  \n3  abdominal-aortic-aneurysm  \n4  abdominal-aortic-aneurysm  ",
      "text/html": "<div>\n<style scoped>\n    .dataframe tbody tr th:only-of-type {\n        vertical-align: middle;\n    }\n\n    .dataframe tbody tr th {\n        vertical-align: top;\n    }\n\n    .dataframe thead th {\n        text-align: right;\n    }\n</style>\n<table border=\"1\" class=\"dataframe\">\n  <thead>\n    <tr style=\"text-align: right;\">\n      <th></th>\n      <th>questions</th>\n      <th>answers</th>\n      <th>url</th>\n      <th>name</th>\n    </tr>\n  </thead>\n  <tbody>\n    <tr>\n      <th>0</th>\n      <td>What is an abdominal aortic aneurysm?</td>\n      <td>Your aorta carries oxygen-rich blood away from...</td>\n      <td>https://www.bhf.org.uk/informationsupport/cond...</td>\n      <td>abdominal-aortic-aneurysm</td>\n    </tr>\n    <tr>\n      <th>1</th>\n      <td>What are the symptoms of an abdominal aortic a...</td>\n      <td>In most cases there are no noticeable symptoms...</td>\n      <td>https://www.bhf.org.uk/informationsupport/cond...</td>\n      <td>abdominal-aortic-aneurysm</td>\n    </tr>\n    <tr>\n      <th>2</th>\n      <td>What are the causes of abdominal aortic aneury...</td>\n      <td>It’s not known exactly what causes abdominal a...</td>\n      <td>https://www.bhf.org.uk/informationsupport/cond...</td>\n      <td>abdominal-aortic-aneurysm</td>\n    </tr>\n    <tr>\n      <th>3</th>\n      <td>How is an abdominal aortic aneurysm diagnosed?</td>\n      <td>An AAA is sometimes picked up during tests for...</td>\n      <td>https://www.bhf.org.uk/informationsupport/cond...</td>\n      <td>abdominal-aortic-aneurysm</td>\n    </tr>\n    <tr>\n      <th>4</th>\n      <td>When should I get an abdominal aortic aneurysm...</td>\n      <td>Abdominal aortic aneurysm is far more common i...</td>\n      <td>https://www.bhf.org.uk/informationsupport/cond...</td>\n      <td>abdominal-aortic-aneurysm</td>\n    </tr>\n  </tbody>\n</table>\n</div>"
     },
     "execution_count": 5,
     "metadata": {},
     "output_type": "execute_result"
    }
   ],
   "source": [
    "data = pd.read_feather(\"./dataset.feather\")\n",
    "data.head()"
   ],
   "metadata": {
    "collapsed": false,
    "ExecuteTime": {
     "end_time": "2023-05-22T14:48:07.146700Z",
     "start_time": "2023-05-22T14:48:07.138178Z"
    }
   }
  },
  {
   "cell_type": "markdown",
   "source": [
    "Struturer les datas en JSON du type :\n",
    "```json\n",
    "{\n",
    "  \"intents\": [\n",
    "    {\n",
    "      \"tag\": \"greeting\",\n",
    "      \"patterns\": [\n",
    "        \"Hello\",\n",
    "        \"La forme?\",\n",
    "        \"yo\",\n",
    "        \"Salut\",\n",
    "        \"ça roule?\"\n",
    "      ],\n",
    "      \"responses\": [\n",
    "        \"Salut à toi!\",\n",
    "        \"Hello\",\n",
    "        \"Comment vas tu?\",\n",
    "        \"Salutations!\",\n",
    "        \"Enchanté\"\n",
    "      ]\n",
    "    },]\n",
    "}\n",
    "```"
   ],
   "metadata": {
    "collapsed": false
   }
  },
  {
   "cell_type": "code",
   "execution_count": 8,
   "outputs": [],
   "source": [
    "#lecture du fichier\n",
    "data = pd.read_feather(\"./dataset.feather\")\n",
    "\n",
    "resJSON = {\"intents\":[]}\n",
    "for i in range(len(data)):\n",
    "    resJSON[\"intents\"].append({\"tag\":data[\"name\"][i],\"patterns\":data[\"questions\"][i],\"responses\":data[\"answers\"][i]})\n",
    "\n",
    "# Enregistrement du fichier\n",
    "with open('./intents.json', 'w') as outfile:\n",
    "    json.dump(resJSON, outfile)"
   ],
   "metadata": {
    "collapsed": false,
    "ExecuteTime": {
     "end_time": "2023-05-22T14:53:57.830113Z",
     "start_time": "2023-05-22T14:53:57.810968Z"
    }
   }
  }
 ],
 "metadata": {
  "kernelspec": {
   "display_name": "Python 3",
   "language": "python",
   "name": "python3"
  },
  "language_info": {
   "codemirror_mode": {
    "name": "ipython",
    "version": 2
   },
   "file_extension": ".py",
   "mimetype": "text/x-python",
   "name": "python",
   "nbconvert_exporter": "python",
   "pygments_lexer": "ipython2",
   "version": "2.7.6"
  }
 },
 "nbformat": 4,
 "nbformat_minor": 0
}
